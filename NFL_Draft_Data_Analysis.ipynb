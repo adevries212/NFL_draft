{
 "cells": [
  {
   "cell_type": "markdown",
   "metadata": {},
   "source": [
    "#### Objective:  Gather 20 years of NFL draft data and and build into usable relational database for analysis\n",
    "\n",
    "Data Mining: Leverage to pro-football-recerence.com to collect NFL draft data over the past 20 years.\n",
    "\n",
    "Data Transformation: Consolidate 20 years of NFL draft data. Clean necessary columns for standardization. \n",
    "\n",
    "Data Modeling: Create necessary dimenson tables and fact table with relational ID columns for normalization. "
   ]
  },
  {
   "cell_type": "code",
   "execution_count": 1,
   "metadata": {},
   "outputs": [],
   "source": [
    "import pandas as pd\n",
    "import numpy as np\n",
    "import os"
   ]
  },
  {
   "cell_type": "code",
   "execution_count": 2,
   "metadata": {},
   "outputs": [
    {
     "name": "stdout",
     "output_type": "stream",
     "text": [
      "[2004, 2005, 2006, 2007, 2008, 2009, 2010, 2011, 2012, 2013, 2014, 2015, 2016, 2017, 2018, 2019, 2020, 2021, 2022, 2023]\n"
     ]
    }
   ],
   "source": [
    "# Create list of years we want data for\n",
    "# Use the range function to potentially add more years later\n",
    "\n",
    "year_list = [x for x in range(2004, 2024)]\n",
    "print(year_list)"
   ]
  },
  {
   "cell_type": "code",
   "execution_count": 3,
   "metadata": {},
   "outputs": [],
   "source": [
    "def create_df (year):\n",
    "    url = f\"https://www.pro-football-reference.com/draft/{year}-combine.htm\"\n",
    "    df = pd.read_html(url)[0]\n",
    "    return df"
   ]
  },
  {
   "cell_type": "code",
   "execution_count": 4,
   "metadata": {},
   "outputs": [],
   "source": [
    "df_list = []\n",
    "\n",
    "for x in year_list:\n",
    "    df_list.append(create_df(x))"
   ]
  },
  {
   "cell_type": "code",
   "execution_count": null,
   "metadata": {},
   "outputs": [],
   "source": [
    "#save raw data locally\n",
    "\n",
    "path = \"/Users/Andrew/Desktop/Projects/NFL_draft/\"\n",
    "\n",
    "pd.concat(df_list).to_csv(path + \"raw_data/raw_data.csv\", index=False)"
   ]
  },
  {
   "cell_type": "code",
   "execution_count": 5,
   "metadata": {},
   "outputs": [],
   "source": [
    "def clean_df(df):\n",
    "    \n",
    "    df = df.drop(columns=[\"College\"])\n",
    "    df[[\"team\", \"round\", \"pick\", \"year\"]] = df[\"Drafted (tm/rnd/yr)\"].str.split(\"/\", expand=True)\n",
    "    \n",
    "    year = df['year'].value_counts().index[0].strip()\n",
    "    \n",
    "    df = df.drop_duplicates(keep=False)\n",
    "    df = df.fillna(\"\")\n",
    "    df[\"year\"] = np.where(df[\"year\"].str.len() > 1, df[\"year\"], year)\n",
    "    df[\"Drafted (tm/rnd/yr)\"] = np.where(df[\"Drafted (tm/rnd/yr)\"].str.len() > 1, df[\"Drafted (tm/rnd/yr)\"], year)\n",
    "    df[\"School\"] = df[\"School\"].str.replace(\"State\",\"St.\") \\\n",
    "                                .str.replace(\"Ala-Birmingham\",\"Alabama-Birmingham\") \\\n",
    "                                .str.replace(\"Boston College\",\"Boston Col.\") \\\n",
    "                                .str.replace(\"West. Michigan\",\"Western Michigan\") \\\n",
    "                                .str.replace(\"Louisiana St\",\"LSU\") \\\n",
    "                                .str.replace(\"OH\",\"Ohio\") \\\n",
    "                                .str.replace(\"Middle Tenn. St.\",\"Middle Tennessee St.\") \\\n",
    "                                .str.replace(\"Tenn-Chattanooga\",\"Tennessee-Chattanooga\")\n",
    "    return df"
   ]
  },
  {
   "cell_type": "code",
   "execution_count": 6,
   "metadata": {},
   "outputs": [
    {
     "data": {
      "text/html": [
       "<div>\n",
       "<style scoped>\n",
       "    .dataframe tbody tr th:only-of-type {\n",
       "        vertical-align: middle;\n",
       "    }\n",
       "\n",
       "    .dataframe tbody tr th {\n",
       "        vertical-align: top;\n",
       "    }\n",
       "\n",
       "    .dataframe thead th {\n",
       "        text-align: right;\n",
       "    }\n",
       "</style>\n",
       "<table border=\"1\" class=\"dataframe\">\n",
       "  <thead>\n",
       "    <tr style=\"text-align: right;\">\n",
       "      <th></th>\n",
       "      <th>Player</th>\n",
       "      <th>Pos</th>\n",
       "      <th>School</th>\n",
       "      <th>Ht</th>\n",
       "      <th>Wt</th>\n",
       "      <th>40yd</th>\n",
       "      <th>Vertical</th>\n",
       "      <th>Bench</th>\n",
       "      <th>Broad Jump</th>\n",
       "      <th>3Cone</th>\n",
       "      <th>Shuttle</th>\n",
       "      <th>Drafted (tm/rnd/yr)</th>\n",
       "      <th>team</th>\n",
       "      <th>round</th>\n",
       "      <th>pick</th>\n",
       "      <th>year</th>\n",
       "    </tr>\n",
       "  </thead>\n",
       "  <tbody>\n",
       "    <tr>\n",
       "      <th>0</th>\n",
       "      <td>Derek Abney</td>\n",
       "      <td>WR</td>\n",
       "      <td>Kentucky</td>\n",
       "      <td>5-9</td>\n",
       "      <td>179</td>\n",
       "      <td>4.58</td>\n",
       "      <td>33.5</td>\n",
       "      <td></td>\n",
       "      <td>120</td>\n",
       "      <td>6.89</td>\n",
       "      <td>4.08</td>\n",
       "      <td>Baltimore Ravens / 7th / 244th pick / 2004</td>\n",
       "      <td>Baltimore Ravens</td>\n",
       "      <td>7th</td>\n",
       "      <td>244th pick</td>\n",
       "      <td>2004</td>\n",
       "    </tr>\n",
       "    <tr>\n",
       "      <th>1</th>\n",
       "      <td>Nathaniel Adibi</td>\n",
       "      <td>DE</td>\n",
       "      <td>Virginia Tech</td>\n",
       "      <td>6-3</td>\n",
       "      <td>254</td>\n",
       "      <td>4.65</td>\n",
       "      <td>33.0</td>\n",
       "      <td></td>\n",
       "      <td>118</td>\n",
       "      <td></td>\n",
       "      <td>4.36</td>\n",
       "      <td>Pittsburgh Steelers / 5th / 145th pick / 2004</td>\n",
       "      <td>Pittsburgh Steelers</td>\n",
       "      <td>5th</td>\n",
       "      <td>145th pick</td>\n",
       "      <td>2004</td>\n",
       "    </tr>\n",
       "    <tr>\n",
       "      <th>2</th>\n",
       "      <td>Roc Alexander</td>\n",
       "      <td>CB</td>\n",
       "      <td>Washington</td>\n",
       "      <td>5-11</td>\n",
       "      <td>185</td>\n",
       "      <td>4.35</td>\n",
       "      <td>39.5</td>\n",
       "      <td></td>\n",
       "      <td>125</td>\n",
       "      <td>6.97</td>\n",
       "      <td>4.23</td>\n",
       "      <td>2004</td>\n",
       "      <td></td>\n",
       "      <td></td>\n",
       "      <td></td>\n",
       "      <td>2004</td>\n",
       "    </tr>\n",
       "    <tr>\n",
       "      <th>3</th>\n",
       "      <td>Rich Alexis</td>\n",
       "      <td>RB</td>\n",
       "      <td>Washington</td>\n",
       "      <td>6-0</td>\n",
       "      <td>210</td>\n",
       "      <td>4.64</td>\n",
       "      <td>32.0</td>\n",
       "      <td></td>\n",
       "      <td>114</td>\n",
       "      <td>7.41</td>\n",
       "      <td>4.43</td>\n",
       "      <td>2004</td>\n",
       "      <td></td>\n",
       "      <td></td>\n",
       "      <td></td>\n",
       "      <td>2004</td>\n",
       "    </tr>\n",
       "    <tr>\n",
       "      <th>4</th>\n",
       "      <td>Jared Allen</td>\n",
       "      <td>DE</td>\n",
       "      <td>Idaho St.</td>\n",
       "      <td>6-6</td>\n",
       "      <td>265</td>\n",
       "      <td>4.72</td>\n",
       "      <td>33.0</td>\n",
       "      <td>13</td>\n",
       "      <td>120</td>\n",
       "      <td>7.11</td>\n",
       "      <td>4.34</td>\n",
       "      <td>Kansas City Chiefs / 4th / 126th pick / 2004</td>\n",
       "      <td>Kansas City Chiefs</td>\n",
       "      <td>4th</td>\n",
       "      <td>126th pick</td>\n",
       "      <td>2004</td>\n",
       "    </tr>\n",
       "  </tbody>\n",
       "</table>\n",
       "</div>"
      ],
      "text/plain": [
       "            Player Pos         School    Ht   Wt  40yd Vertical Bench  \\\n",
       "0      Derek Abney  WR       Kentucky   5-9  179  4.58     33.5         \n",
       "1  Nathaniel Adibi  DE  Virginia Tech   6-3  254  4.65     33.0         \n",
       "2    Roc Alexander  CB     Washington  5-11  185  4.35     39.5         \n",
       "3      Rich Alexis  RB     Washington   6-0  210  4.64     32.0         \n",
       "4      Jared Allen  DE      Idaho St.   6-6  265  4.72     33.0    13   \n",
       "\n",
       "  Broad Jump 3Cone Shuttle                            Drafted (tm/rnd/yr)  \\\n",
       "0        120  6.89    4.08     Baltimore Ravens / 7th / 244th pick / 2004   \n",
       "1        118          4.36  Pittsburgh Steelers / 5th / 145th pick / 2004   \n",
       "2        125  6.97    4.23                                           2004   \n",
       "3        114  7.41    4.43                                           2004   \n",
       "4        120  7.11    4.34   Kansas City Chiefs / 4th / 126th pick / 2004   \n",
       "\n",
       "                   team  round          pick   year  \n",
       "0     Baltimore Ravens    7th    244th pick    2004  \n",
       "1  Pittsburgh Steelers    5th    145th pick    2004  \n",
       "2                                              2004  \n",
       "3                                              2004  \n",
       "4   Kansas City Chiefs    4th    126th pick    2004  "
      ]
     },
     "execution_count": 6,
     "metadata": {},
     "output_type": "execute_result"
    }
   ],
   "source": [
    "df_list = [clean_df(x) for x in df_list]\n",
    "agg_df = pd.concat(df_list)\n",
    "agg_df.head()"
   ]
  },
  {
   "cell_type": "code",
   "execution_count": 7,
   "metadata": {},
   "outputs": [
    {
     "name": "stdout",
     "output_type": "stream",
     "text": [
      "Stored 'agg_df' (DataFrame)\n"
     ]
    }
   ],
   "source": [
    "%store agg_df"
   ]
  },
  {
   "cell_type": "code",
   "execution_count": null,
   "metadata": {},
   "outputs": [],
   "source": [
    "def clean_team_column (df):\n",
    "    df = df.rename(columns={\"team\": \"team_name\"})\n",
    "    df[\"team_name\"] = df[\"team_name\"].str.strip()\n",
    "    replace_teams_dict = {\"Oakland Raiders\": \"Las Vegas Raiders\",\n",
    "                         \"Washington Redskins\": \"Washington Commanders\",\n",
    "                         \"Washington Football Team\": \"Washington Commanders\",\n",
    "                         \"St. Louis Rams\": \"Los Angeles Rams\",\n",
    "                         \"San Diego Chargers\": \"Los Angeles Chargers\"}\n",
    "    df = df.replace({\"team_name\": replace_teams_dict})\n",
    "    return df\n",
    "    "
   ]
  },
  {
   "cell_type": "code",
   "execution_count": null,
   "metadata": {},
   "outputs": [],
   "source": [
    "def clean_height_column (df):\n",
    "    df = df.rename(columns={\"Ht\": \"height\"})\n",
    "    df[\"height\"] = df[\"height\"].str.strip()\n",
    "    height_dict = {\"5-4\": \"64\", \"5-5\": \"65\", \"5-6\": \"66\", \"5-7\": \"67\", \"5-8\": \"68\",\n",
    "                   \"5-9\": \"69\", \"5-10\": \"70\", \"5-11\": \"71\", \"6-0\": \"72\", \"6-1\": \"73\",\n",
    "                   \"6-2\": \"74\", \"6-3\": \"75\", \"6-4\": \"76\",  \"6-5\": \"77\", \"6-6\": \"78\",\n",
    "                   \"6-7\": \"79\", \"6-8\": \"80\", \"6-9\": \"81\", \"6-10\": \"82\", \"6-11\": \"83\"}\n",
    "    df = df.replace({\"height\": height_dict})\n",
    "    df[\"height\"] = df[\"height\"].replace(\"\",0).astype(int)\n",
    "    return df"
   ]
  },
  {
   "cell_type": "code",
   "execution_count": null,
   "metadata": {},
   "outputs": [],
   "source": [
    "#Clean Pick_Number column\n",
    "\n",
    "def clean_pick_column (df):\n",
    "    df = df.rename(columns={\"Pick_Number\": \"pick\"})\n",
    "    df[\"pick\"] = df[\"pick\"].str.strip().str[:-7]\n",
    "    df[\"pick\"] = df[\"pick\"].replace(\"\",0).astype(int)\n",
    "    return df"
   ]
  },
  {
   "cell_type": "code",
   "execution_count": null,
   "metadata": {},
   "outputs": [],
   "source": [
    "#Clean Round column\n",
    "\n",
    "def clean_round_column (df):\n",
    "    df = df.rename(columns={\"Round\": \"round\"})\n",
    "    df[\"round\"] = df[\"round\"].str.strip().str[:-2]\n",
    "    df[\"round\"] = df[\"round\"].replace(\"\",0).astype(int)\n",
    "    return df"
   ]
  },
  {
   "cell_type": "code",
   "execution_count": null,
   "metadata": {},
   "outputs": [],
   "source": [
    "agg_df = clean_team_column(agg_df)\n",
    "agg_df = clean_height_column(agg_df)\n",
    "agg_df = clean_pick_column(agg_df)\n",
    "agg_df = clean_round_column(agg_df)"
   ]
  },
  {
   "cell_type": "code",
   "execution_count": null,
   "metadata": {},
   "outputs": [],
   "source": [
    "agg_df.head(2)"
   ]
  },
  {
   "cell_type": "markdown",
   "metadata": {},
   "source": [
    "### Create Position Table"
   ]
  },
  {
   "cell_type": "code",
   "execution_count": null,
   "metadata": {},
   "outputs": [],
   "source": [
    "position_dim = agg_df[[\"Pos\"]].drop_duplicates().reset_index(drop=True)\n",
    "position_dim = position_dim.rename(columns={\"Pos\": \"position_abrev\"})\n",
    "position_dim.head(2)"
   ]
  },
  {
   "cell_type": "code",
   "execution_count": null,
   "metadata": {},
   "outputs": [],
   "source": [
    "pos_dict = {\"WR\": \"Wide Receiver\",\n",
    "           \"S\": \"Safety\",\n",
    "           \"CB\": \"Cornerback\",\n",
    "           \"TE\": \"Tight End\",\n",
    "           \"RB\": \"Running Back\",\n",
    "           \"C\": \"Center\",\n",
    "           \"OLB\": \"Outside Linebacker\",\n",
    "           \"ILB\": \"Inside Linebacker\",\n",
    "           \"OG\": \"Offensive Guard\",\n",
    "           \"QB\": \"Quarterback\",\n",
    "           \"K\": \"Kicker\",\n",
    "           \"OT\": \"Offensive Tackle\",\n",
    "           \"DT\": \"Defensive Tackle\",\n",
    "           \"P\": \"Punter\",\n",
    "           \"DE\": \"Defensive End\",\n",
    "           \"FB\": \"Fullback\",\n",
    "           \"LS\": \"Long Snapper\",\n",
    "           \"DL\": \"Defensive Line\",\n",
    "           \"EDGE\": \"Edge Rusher\",\n",
    "           \"LB\": \"Linebacker\",\n",
    "           \"DB\": \"Defensive Back\",\n",
    "           \"OL\": \"Offensive Line\"}"
   ]
  },
  {
   "cell_type": "code",
   "execution_count": null,
   "metadata": {},
   "outputs": [],
   "source": [
    "unit_dict = {\"WR\": \"Offense\",\n",
    "           \"S\": \"Defense\",\n",
    "           \"CB\": \"Defense\",\n",
    "           \"TE\": \"Offense\",\n",
    "           \"RB\": \"Offense\",\n",
    "           \"C\": \"Offense\",\n",
    "           \"OLB\": \"Defense\",\n",
    "           \"ILB\": \"Defense\",\n",
    "           \"OG\": \"Offense\",\n",
    "           \"QB\": \"Offense\",\n",
    "           \"K\": \"Special Teams\",\n",
    "           \"OT\": \"Offense\",\n",
    "           \"DT\": \"Defense\",\n",
    "           \"P\": \"Special Teams\",\n",
    "           \"DE\": \"Defense\",\n",
    "           \"FB\": \"Offense\",\n",
    "           \"LS\": \"Special Teams\",\n",
    "           \"DL\": \"Defense\",\n",
    "           \"EDGE\": \"Defense\",\n",
    "           \"LB\": \"Defense\",\n",
    "           \"DB\": \"Defense\",\n",
    "           \"OL\": \"Offense\"}"
   ]
  },
  {
   "cell_type": "code",
   "execution_count": null,
   "metadata": {},
   "outputs": [],
   "source": [
    "position_dim[\"position_name\"] = position_dim[\"position_abrev\"].map(pos_dict)\n",
    "\n",
    "position_dim[\"unit\"] = position_dim[\"position_abrev\"].map(unit_dict)\n",
    "\n",
    "position_dim[\"position_id\"] = position_dim.index\n",
    "position_dim[\"position_id\"] = position_dim[\"position_id\"].astype(int)\n",
    "position_dim = position_dim[[\"position_id\", \"position_name\", \"position_abrev\", \"unit\"]]\n",
    "position_dim.head(2)"
   ]
  },
  {
   "cell_type": "markdown",
   "metadata": {},
   "source": [
    "### Create Team Table"
   ]
  },
  {
   "cell_type": "code",
   "execution_count": null,
   "metadata": {},
   "outputs": [],
   "source": [
    "team_dim = agg_df[[\"team_name\"]].drop_duplicates().reset_index(drop=True)\n",
    "team_dim.head(2)"
   ]
  },
  {
   "cell_type": "code",
   "execution_count": null,
   "metadata": {},
   "outputs": [],
   "source": [
    "team_dict = {'Green Bay Packers': \"GB\",\n",
    " 'Los Angeles Rams': \"LAR\",\n",
    " 'Atlanta Falcons': \"ATL\",\n",
    " 'New York Jets': \"NYJ\",\n",
    " 'Pittsburgh Steelers': \"PIT\",\n",
    " 'Los Angeles Chargers': \"LAC\",\n",
    " 'Minnesota Vikings': \"MIN\",\n",
    " 'Denver Broncos': \"DEN\",\n",
    " 'Carolina Panthers': \"CAR\",\n",
    " 'New York Giants': \"NYG\",\n",
    " 'Cleveland Browns': \"CLE\",\n",
    " 'Houston Texans': \"HOU\",\n",
    " 'Cincinnati Bengals': \"CIN\",\n",
    " 'San Francisco 49ers': \"SF\",\n",
    " 'Jacksonville Jaguars': \"JAX\",\n",
    " 'Washington Commanders': \"WAS\",\n",
    " 'Seattle Seahawks': \"SEA\",\n",
    " 'Baltimore Ravens': \"BAL\",\n",
    " 'Arizona Cardinals': \"AZ\",\n",
    " 'Buffalo Bills': \"BUF\",\n",
    " 'Chicago Bears': \"CHI\",\n",
    " 'Las Vegas Raiders': \"LV\",\n",
    " 'New Orleans Saints': \"NO\",\n",
    " 'Dallas Cowboys': \"DAL\",\n",
    " 'New England Patriots': \"NE\",\n",
    " 'Detroit Lions': \"DET\",\n",
    " 'Tampa Bay Buccaneers': \"TB\",\n",
    " 'Kansas City Chiefs': \"KC\",\n",
    " 'Philadelphia Eagles': \"PHI\",\n",
    " 'Miami Dolphins': \"MIA\",\n",
    " 'Tennessee Titans': \"TEN\",\n",
    " 'Indianapolis Colts': \"IND\"}"
   ]
  },
  {
   "cell_type": "code",
   "execution_count": null,
   "metadata": {},
   "outputs": [],
   "source": [
    "division_dict = {'Green Bay Packers': \"NFC North\",\n",
    " 'Los Angeles Rams': \"NFC West\",\n",
    " 'Atlanta Falcons': \"NFC South\",\n",
    " 'New York Jets': \"AFC East\",\n",
    " 'Pittsburgh Steelers': \"AFC North\",\n",
    " 'Los Angeles Chargers': \"AFC West\",\n",
    " 'Minnesota Vikings': \"NFC North\",\n",
    " 'Denver Broncos': \"AFC West\",\n",
    " 'Carolina Panthers': \"NFC South\",\n",
    " 'New York Giants': \"NFC East\",\n",
    " 'Cleveland Browns': \"AFC North\",\n",
    " 'Houston Texans': \"AFC South\",\n",
    " 'Cincinnati Bengals': \"AFC North\",\n",
    " 'San Francisco 49ers': \"NFC West\",\n",
    " 'Jacksonville Jaguars': \"AFC South\",\n",
    " 'Washington Commanders': \"NFC East\",\n",
    " 'Seattle Seahawks': \"NFC West\",\n",
    " 'Baltimore Ravens': \"AFC North\",\n",
    " 'Arizona Cardinals': \"NFC West\",\n",
    " 'Buffalo Bills': \"AFC East\",\n",
    " 'Chicago Bears': \"NFC North\",\n",
    " 'Las Vegas Raiders': \"AFC West\",\n",
    " 'New Orleans Saints': \"NFC South\",\n",
    " 'Dallas Cowboys': \"NFC East\",\n",
    " 'New England Patriots': \"AFC East\",\n",
    " 'Detroit Lions': \"NFC North\",\n",
    " 'Tampa Bay Buccaneers': \"NFC South\",\n",
    " 'Kansas City Chiefs': \"AFC West\",\n",
    " 'Philadelphia Eagles': \"NFC East\",\n",
    " 'Miami Dolphins': \"AFC East\",\n",
    " 'Tennessee Titans': \"AFC South\",\n",
    " 'Indianapolis Colts': \"AFC South\"}"
   ]
  },
  {
   "cell_type": "code",
   "execution_count": null,
   "metadata": {},
   "outputs": [],
   "source": [
    "team_dim[\"team_abrev\"] = team_dim[\"team_name\"].map(team_dict)\n",
    "team_dim[\"division\"] = team_dim[\"team_name\"].map(division_dict)\n",
    "\n",
    "team_dim = team_dim.sort_values(by=\"division\").reset_index(drop=True)\n",
    "team_dim[\"team_id\"] = team_dim.index\n",
    "team_dim[\"team_id\"] = team_dim[\"team_id\"].astype(int)\n",
    "team_dim = team_dim[[\"team_id\", \"team_name\", \"team_abrev\", \"division\"]]\n",
    "team_dim.head()"
   ]
  },
  {
   "cell_type": "markdown",
   "metadata": {},
   "source": [
    "### Create Draft Selection Table"
   ]
  },
  {
   "cell_type": "code",
   "execution_count": null,
   "metadata": {},
   "outputs": [],
   "source": [
    "draft_dim = agg_df[[\"Drafted (tm/rnd/yr)\", \"team_name\", \"round\", \"pick\", \"year\"]].drop_duplicates()\n",
    "draft_dim = draft_dim.sort_values(by=[\"year\", \"pick\"]).reset_index(drop=True)\n",
    "\n",
    "draft_dim[\"draft_id\"] = draft_dim.index\n",
    "draft_dim[\"draft_id\"] = draft_dim[\"draft_id\"].astype(int)\n",
    "\n",
    "draft_dim[\"drafted\"] = np.where(draft_dim['team_name'].str.len() > 1, True, False)\n",
    "draft_dim = draft_dim.merge(team_dim, on=\"team_name\")\n",
    "draft_dim = draft_dim[[\"draft_id\", \"drafted\", \"team_id\", \"round\", \"pick\", \"year\", \"Drafted (tm/rnd/yr)\"]] \\\n",
    "                        .sort_values(by=\"draft_id\") \\\n",
    "                        .reset_index(drop=True)\n",
    "\n",
    "print(len(draft_dim))\n",
    "draft_dim.head()"
   ]
  },
  {
   "cell_type": "code",
   "execution_count": null,
   "metadata": {},
   "outputs": [],
   "source": [
    "draft_dim.dtypes"
   ]
  },
  {
   "cell_type": "markdown",
   "metadata": {},
   "source": [
    "### Create School Table"
   ]
  },
  {
   "cell_type": "code",
   "execution_count": null,
   "metadata": {},
   "outputs": [],
   "source": [
    "school_dim = agg_df[[\"School\"]]\n",
    "school_dim = school_dim.drop_duplicates() \\\n",
    "                        .sort_values(by=\"School\") \\\n",
    "                        .rename(columns={\"School\": \"school_name\"}) \\\n",
    "                        .reset_index(drop=True)\n",
    "\n",
    "school_dim[\"school_id\"] = school_dim.index\n",
    "school_dim[\"school_id\"] = school_dim[\"school_id\"].astype(int)\n",
    "school_dim = school_dim[[\"school_id\", \"school_name\"]]\n",
    "school_dim.head(2)"
   ]
  },
  {
   "cell_type": "markdown",
   "metadata": {},
   "source": [
    "### Create Player Fact Table"
   ]
  },
  {
   "cell_type": "code",
   "execution_count": null,
   "metadata": {},
   "outputs": [],
   "source": [
    "agg_df = agg_df.reset_index(drop=True)\n",
    "agg_df[\"player_id\"] = agg_df.index\n",
    "agg_df[\"player_id\"] = agg_df[\"player_id\"].astype(int)\n",
    "\n",
    "player_fact_table = agg_df.merge(position_dim, left_on=\"Pos\", right_on=\"position_abrev\") \\\n",
    "                            .merge(draft_dim, left_on=\"Drafted (tm/rnd/yr)\", right_on=\"Drafted (tm/rnd/yr)\") \\\n",
    "                            .merge(school_dim, left_on=\"School\", right_on=\"school_name\")\n",
    "        \n",
    "player_fact_table = player_fact_table[[\"player_id\", \"position_id\", \"draft_id\", \"team_id\", \"school_id\", \"Player\", \"height\", \"Wt\", \"40yd\", \n",
    "                   \"Vertical\", \"Bench\", \"Broad Jump\", \"3Cone\", \"Shuttle\"]]\n",
    "\n",
    "player_fact_table = player_fact_table.sort_values(by=\"player_id\").reset_index(drop=True).fillna('')\n",
    "\n",
    "player_fact_table[\"height\"] = player_fact_table[\"height\"].replace(\"\",0).astype(int)\n",
    "player_fact_table[\"Wt\"] = player_fact_table[\"Wt\"].replace(\"\",0).astype(int)\n",
    "player_fact_table[\"40yd\"] = player_fact_table[\"40yd\"].replace(\"\",0).astype(float)\n",
    "player_fact_table[\"Vertical\"] = player_fact_table[\"Vertical\"].replace(\"\",0).astype(float)\n",
    "player_fact_table[\"Bench\"] = player_fact_table[\"Bench\"].replace(\"\",0).astype(int)\n",
    "player_fact_table[\"Broad Jump\"] = player_fact_table[\"Broad Jump\"].replace(\"\",0).astype(int)\n",
    "player_fact_table[\"3Cone\"] = player_fact_table[\"3Cone\"].replace(\"\",0).astype(float)\n",
    "player_fact_table[\"Shuttle\"] = player_fact_table[\"Shuttle\"].replace(\"\",0).astype(float)\n"
   ]
  },
  {
   "cell_type": "code",
   "execution_count": null,
   "metadata": {},
   "outputs": [],
   "source": [
    "col_name_dict = {\"Player\": \"player_name\",\n",
    "                \"Wt\": \"weight\",\n",
    "                \"40yd\": \"40_yard_dash\",\n",
    "                \"Vertical\": \"vertical_jump\",\n",
    "                \"Bench\": \"bench_press\",\n",
    "                \"Broad Jump\": \"broad_jump\",\n",
    "                \"3Cone\": \"3_cone\",\n",
    "                \"Shuttle\": \"short_shuttle\"}\n",
    "\n",
    "player_fact_table = player_fact_table.rename(columns= col_name_dict)\n",
    "player_fact_table.head()"
   ]
  },
  {
   "cell_type": "code",
   "execution_count": null,
   "metadata": {},
   "outputs": [],
   "source": [
    "draft_dim = draft_dim.drop(columns=\"Drafted (tm/rnd/yr)\")"
   ]
  },
  {
   "cell_type": "code",
   "execution_count": null,
   "metadata": {},
   "outputs": [],
   "source": [
    "# path = \"/Users/Andrew/Desktop/Projects/NFL_draft/\"\n",
    "\n",
    "player_fact_table.to_csv(path + \"clean_data/player_fact_table.csv\", index=False)\n",
    "school_dim.to_csv(path + \"clean_data/school_dim.csv\", index=False)\n",
    "draft_dim.to_csv(path + \"clean_data/draft_dim.csv\", index=False)\n",
    "team_dim.to_csv(path + \"clean_data/team_dim.csv\", index=False)\n",
    "position_dim.to_csv(path + \"clean_data/position_dim.csv\", index=False)\n"
   ]
  },
  {
   "cell_type": "code",
   "execution_count": null,
   "metadata": {},
   "outputs": [],
   "source": []
  },
  {
   "cell_type": "code",
   "execution_count": null,
   "metadata": {},
   "outputs": [],
   "source": []
  }
 ],
 "metadata": {
  "kernelspec": {
   "display_name": "Python 3",
   "language": "python",
   "name": "python3"
  },
  "language_info": {
   "codemirror_mode": {
    "name": "ipython",
    "version": 3
   },
   "file_extension": ".py",
   "mimetype": "text/x-python",
   "name": "python",
   "nbconvert_exporter": "python",
   "pygments_lexer": "ipython3",
   "version": "3.6.4"
  }
 },
 "nbformat": 4,
 "nbformat_minor": 2
}
